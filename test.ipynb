{
 "cells": [
  {
   "cell_type": "code",
   "execution_count": 3,
   "metadata": {},
   "outputs": [],
   "source": [
    "from ipyannotate import annotate\n",
    "from ipyannotate.buttons import (\n",
    "    ValueButton as Button,\n",
    "    OkButton as Ok,\n",
    "    ErrorButton as Error,\n",
    "    NextButton as Next,\n",
    "    BackButton as Back\n",
    ")\n",
    "from ipyannotate.canvas import OutputCanvas\n",
    "from ipyannotate.tasks import Tasks, Task, MultiTask\n",
    "from ipyannotate.toolbar import Toolbar, MultiToolbar"
   ]
  },
  {
   "cell_type": "code",
   "execution_count": 4,
   "metadata": {},
   "outputs": [
    {
     "data": {
      "application/vnd.jupyter.widget-view+json": {
       "model_id": "c34513d9cdc142358e39316a583d2964",
       "version_major": 2,
       "version_minor": 0
      },
      "text/html": [
       "<p>Failed to display Jupyter Widget of type <code>Annotation</code>.</p>\n",
       "<p>\n",
       "  If you're reading this message in the Jupyter Notebook or JupyterLab Notebook, it may mean\n",
       "  that the widgets JavaScript is still loading. If this message persists, it\n",
       "  likely means that the widgets JavaScript library is either not installed or\n",
       "  not enabled. See the <a href=\"https://ipywidgets.readthedocs.io/en/stable/user_install.html\">Jupyter\n",
       "  Widgets Documentation</a> for setup instructions.\n",
       "</p>\n",
       "<p>\n",
       "  If you're reading this message in another frontend (for example, a static\n",
       "  rendering on GitHub or <a href=\"https://nbviewer.jupyter.org/\">NBViewer</a>),\n",
       "  it may mean that your frontend doesn't currently support widgets.\n",
       "</p>\n"
      ],
      "text/plain": [
       "Annotation(canvas=OutputCanvas(), progress=Progress(atoms=[<ipyannotate.progress.Atom object at 0x10c9326d8>, <ipyannotate.progress.Atom object at 0x10c932320>, <ipyannotate.progress.Atom object at 0x10c932e10>, <ipyannotate.progress.Atom object at 0x10c932b70>, <ipyannotate.progress.Atom object at 0x10c93e048>]), toolbar=Toolbar(buttons=[OkButton(color='green', icon='👌', label='ok', shortcut='1'), ErrorButton(color='red', icon='❌', label='err', shortcut='2'), BackButton(color='gray', icon='← ', label='back', shortcut='k'), NextButton(color='gray', icon='→ ', label='next', shortcut='j')]))"
      ]
     },
     "metadata": {},
     "output_type": "display_data"
    }
   ],
   "source": [
    "annotation = annotate('{} % 2 == 0'.format(_) for _ in range(5))\n",
    "annotation"
   ]
  },
  {
   "cell_type": "markdown",
   "metadata": {},
   "source": [
    "# change buttons"
   ]
  },
  {
   "cell_type": "code",
   "execution_count": 5,
   "metadata": {},
   "outputs": [],
   "source": [
    "ok = Ok()\n",
    "next = Next()\n",
    "back = Back()\n",
    "annotation.toolbar.buttons = [ok, next, back]"
   ]
  },
  {
   "cell_type": "code",
   "execution_count": 6,
   "metadata": {},
   "outputs": [],
   "source": [
    "ok.click()\n",
    "next.click()\n",
    "ok.click()\n",
    "back.click()\n",
    "ok.click()"
   ]
  },
  {
   "cell_type": "code",
   "execution_count": 7,
   "metadata": {},
   "outputs": [
    {
     "data": {
      "text/plain": [
       "[True, None]"
      ]
     },
     "execution_count": 7,
     "metadata": {},
     "output_type": "execute_result"
    }
   ],
   "source": [
    "values = [_.value for _ in annotation.tasks[:2]]\n",
    "# assert values == [True, None], values\n",
    "values"
   ]
  },
  {
   "cell_type": "code",
   "execution_count": 8,
   "metadata": {},
   "outputs": [],
   "source": [
    "annotation.toolbar.buttons = [ok, next]"
   ]
  },
  {
   "cell_type": "code",
   "execution_count": 9,
   "metadata": {},
   "outputs": [],
   "source": [
    "err = Error()\n",
    "try:\n",
    "    annotation.toolbar.buttons = [err, next, back]\n",
    "except RuntimeError:\n",
    "    pass\n",
    "else:\n",
    "    raise"
   ]
  },
  {
   "cell_type": "code",
   "execution_count": 10,
   "metadata": {},
   "outputs": [],
   "source": [
    "try:\n",
    "    annotation.toolbar.buttons = [ok, ok, next, back]\n",
    "except ValueError:\n",
    "    pass\n",
    "else:\n",
    "    raise"
   ]
  },
  {
   "cell_type": "markdown",
   "metadata": {},
   "source": [
    "# change tasks"
   ]
  },
  {
   "cell_type": "code",
   "execution_count": 11,
   "metadata": {},
   "outputs": [],
   "source": [
    "tasks = Tasks(Task(_) for _ in range(4))\n",
    "annotation.tasks = tasks"
   ]
  },
  {
   "cell_type": "code",
   "execution_count": 12,
   "metadata": {},
   "outputs": [],
   "source": [
    "ok.click()\n",
    "next.click()\n",
    "next.click()\n",
    "ok.click()"
   ]
  },
  {
   "cell_type": "code",
   "execution_count": 13,
   "metadata": {},
   "outputs": [
    {
     "data": {
      "text/plain": [
       "[True, None, None, True]"
      ]
     },
     "execution_count": 13,
     "metadata": {},
     "output_type": "execute_result"
    }
   ],
   "source": [
    "values = [_.value for _ in annotation.tasks]\n",
    "# assert values == [True, None, None, True], values\n",
    "values"
   ]
  },
  {
   "cell_type": "markdown",
   "metadata": {},
   "source": [
    "# convert multi"
   ]
  },
  {
   "cell_type": "code",
   "execution_count": 14,
   "metadata": {},
   "outputs": [],
   "source": [
    "buttons = [\n",
    "    Button(value='%2', label='%2', shortcut='1'),\n",
    "    Button(value='%3', label='%3', shortcut='2'),\n",
    "    Button(value='%5', label='%5', shortcut='3')\n",
    "]\n",
    "next = Next()\n",
    "back = Back()\n",
    "controls = [back, next]\n",
    "annotation.tasks = Tasks(MultiTask(_) for _ in range(4))\n",
    "annotation.toolbar = MultiToolbar(buttons + controls)"
   ]
  },
  {
   "cell_type": "code",
   "execution_count": 15,
   "metadata": {},
   "outputs": [],
   "source": [
    "for _ in range(4):\n",
    "    [_.click() for _ in buttons]\n",
    "    next.click()"
   ]
  },
  {
   "cell_type": "code",
   "execution_count": 16,
   "metadata": {},
   "outputs": [
    {
     "data": {
      "text/plain": [
       "[{'%2', '%3', '%5'},\n",
       " {'%2', '%3', '%5'},\n",
       " {'%2', '%3', '%5'},\n",
       " {'%2', '%3', '%5'}]"
      ]
     },
     "execution_count": 16,
     "metadata": {},
     "output_type": "execute_result"
    }
   ],
   "source": [
    "values = [_.value for _ in annotation.tasks]\n",
    "item = {'%5', '%2', '%3'}\n",
    "# assert values == [item] * 4, values\n",
    "values"
   ]
  },
  {
   "cell_type": "code",
   "execution_count": null,
   "metadata": {},
   "outputs": [],
   "source": []
  }
 ],
 "metadata": {
  "kernelspec": {
   "display_name": "Python 3",
   "language": "python",
   "name": "python3"
  },
  "language_info": {
   "codemirror_mode": {
    "name": "ipython",
    "version": 3
   },
   "file_extension": ".py",
   "mimetype": "text/x-python",
   "name": "python",
   "nbconvert_exporter": "python",
   "pygments_lexer": "ipython3",
   "version": "3.5.1"
  }
 },
 "nbformat": 4,
 "nbformat_minor": 2
}
