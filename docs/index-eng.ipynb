{
 "cells": [
  {
   "cell_type": "markdown",
   "metadata": {},
   "source": [
    "# ipyannotate"
   ]
  },
  {
   "cell_type": "markdown",
   "metadata": {},
   "source": [
    "Widget for Jupyter Notebook to check and annotate data. A simplified version of <a href=\"https://prodi.gy/demo?view_id=ner\">Prodigy</a> for Jupyter Notebook.\n",
    "<img src=\"i/screencast.gif\"/>"
   ]
  },
  {
   "cell_type": "markdown",
   "metadata": {},
   "source": [
    "Examples of markup tasks that can be solved using `ipyannotate`:\n",
    "- Assigning one or more topics to a group of news articles\n",
    "- Filtering out toxic reviews from your dataset\n",
    "- Marking adult content from a set of screenshots\n",
    "\n",
    "Examples of tasks for which`ipyannotate` is not suitable:\n",
    "- Drawing masks or selecting background vs foreground\n",
    "- Given a set of portraits, detecting eyes/ears/nose/etc\n",
    "- Other types of tasks which involved graphically annotating an image\n",
    "\n",
    "`ipyannotate`  is well-suited for conveniently placing one or several labels for a set of objects (pictures, texts).\n",
    "\n",
    "Often the whole process of working with data occurs inside Jupyter Notebook. It is inconvenient to format the data in a json or xml file, send it to another service, upload and parse the results. With `ipyannotate` you can mark up the data directly in Jupyter:"
   ]
  },
  {
   "cell_type": "code",
   "execution_count": 2,
   "metadata": {},
   "outputs": [
    {
     "data": {
      "application/vnd.jupyter.widget-view+json": {
       "model_id": "ef5597bea27644cbb3dfcb4be6bafbc4",
       "version_major": 2,
       "version_minor": 0
      },
      "text/plain": [
       "Annotation(canvas=OutputCanvas(), progress=Progress(atoms=[<ipyannotate.progress.Atom object at 0x10b355160>, …"
      ]
     },
     "metadata": {},
     "output_type": "display_data"
    }
   ],
   "source": [
    "from ipyannotate import annotate\n",
    "from ipyannotate.buttons import (\n",
    "    ValueButton as Button,\n",
    "    NextButton as Next,\n",
    "    BackButton as Back\n",
    ")\n",
    "\n",
    "data = [1, 15, 62, 33, 83, 12, 949, 71]\n",
    "annotation = annotate(data, buttons=[Button('Even'), Button('Odd'), Back(), Next()])\n",
    "annotation"
   ]
  },
  {
   "cell_type": "markdown",
   "metadata": {},
   "source": [
    "<img src=\"i/odd_even_eng.gif\"/>"
   ]
  },
  {
   "cell_type": "code",
   "execution_count": 3,
   "metadata": {},
   "outputs": [
    {
     "data": {
      "text/plain": [
       "[Task(output=1, value=None),\n",
       " Task(output=15, value=None),\n",
       " Task(output=62, value=None),\n",
       " Task(output=33, value=None),\n",
       " Task(output=83, value=None),\n",
       " Task(output=12, value=None),\n",
       " Task(output=949, value=None),\n",
       " Task(output=71, value=None)]"
      ]
     },
     "execution_count": 3,
     "metadata": {},
     "output_type": "execute_result"
    }
   ],
   "source": [
    "annotation.tasks"
   ]
  },
  {
   "cell_type": "markdown",
   "metadata": {},
   "source": [
    "2. Data Presentation\n",
    "\n",
    "Jupyter has a convenient data presentation system. If the result of the command is a graph, the user sees the picture, not `<Figure # 881dabb ...>` like in a regular console. This functionality is available in `ipyannotate`, for example, you can conveniently mark out the images:"
   ]
  },
  {
   "cell_type": "code",
   "execution_count": 4,
   "metadata": {},
   "outputs": [
    {
     "data": {
      "application/vnd.jupyter.widget-view+json": {
       "model_id": "b49dcd1bd9d049e59dac94d52014b7cb",
       "version_major": 2,
       "version_minor": 0
      },
      "text/plain": [
       "Annotation(canvas=OutputCanvas(), progress=Progress(atoms=[<ipyannotate.progress.Atom object at 0x10b37f240>, …"
      ]
     },
     "metadata": {},
     "output_type": "display_data"
    }
   ],
   "source": [
    "from glob import glob\n",
    "from PIL import Image\n",
    "\n",
    "data = [Image.open(_) for _ in glob('i/dogs_cats/*.jpg')]\n",
    "annotation = annotate(data, buttons=[Button('dog'), Button('cat'), Back(), Next()])\n",
    "annotation"
   ]
  },
  {
   "cell_type": "markdown",
   "metadata": {},
   "source": [
    "<img src=\"i/dogs_cats.gif\">"
   ]
  },
  {
   "cell_type": "markdown",
   "metadata": {},
   "source": [
    "3. Interactivity\n",
    "\n",
    "When marking texts by category, all possible topics are often not known in advance. Roughly speaking, before starting work, you cannot set a list of buttons in `ipyannotate.annotate`. Widgets are interactive, so you can add a button on the go. Also, for example, intermediate markup results can be stored, `annotation.tasks` is updated in memory interactively."
   ]
  },
  {
   "cell_type": "code",
   "execution_count": 5,
   "metadata": {},
   "outputs": [
    {
     "data": {
      "application/vnd.jupyter.widget-view+json": {
       "model_id": "8964376f6dde4ad68e92553d17b68231",
       "version_major": 2,
       "version_minor": 0
      },
      "text/plain": [
       "Annotation(canvas=OutputCanvas(), progress=Progress(atoms=[<ipyannotate.progress.Atom object at 0x10b4242b0>, …"
      ]
     },
     "metadata": {},
     "output_type": "display_data"
    }
   ],
   "source": [
    "data = [\n",
    "    'Lorem ipsum dolor sit amet',\n",
    "    'consectetur adipiscing elit',\n",
    "    'Sed accumsan consectetur eros',\n",
    "    'sagittis bibendum nunc feugiat eu',\n",
    "    'Integer volutpat lacus a ligula',\n",
    "    'pharetra mollis. Sed nec iaculis'\n",
    "]\n",
    "\n",
    "buttons = [\n",
    "    Button('Option 1'),\n",
    "    Button('Option 2')\n",
    "]\n",
    "controls = [\n",
    "    Back(),\n",
    "    Next()\n",
    "]\n",
    "annotation = annotate(data, buttons=buttons + controls)\n",
    "annotation"
   ]
  },
  {
   "cell_type": "code",
   "execution_count": 6,
   "metadata": {},
   "outputs": [],
   "source": [
    "fun = Button('Option 3')\n",
    "annotation.toolbar.buttons = buttons + [fun] + controls"
   ]
  },
  {
   "cell_type": "markdown",
   "metadata": {},
   "source": [
    "<img src=\"i/interactive_eng.gif\"/>"
   ]
  },
  {
   "cell_type": "markdown",
   "metadata": {},
   "source": [
    "## Overview"
   ]
  },
  {
   "cell_type": "markdown",
   "metadata": {},
   "source": [
    "The main user interface is the `annotate` function, it has one required argument` tasks` - a list of tasks, and three optional: `buttons`,` display` and `multi`"
   ]
  },
  {
   "cell_type": "code",
   "execution_count": 7,
   "metadata": {},
   "outputs": [
    {
     "data": {
      "application/vnd.jupyter.widget-view+json": {
       "model_id": "1e65f7b00c0b4f29be1b54a7b59ec184",
       "version_major": 2,
       "version_minor": 0
      },
      "text/plain": [
       "Annotation(canvas=OutputCanvas(), progress=Progress(atoms=[<ipyannotate.progress.Atom object at 0x10b424dd8>, …"
      ]
     },
     "metadata": {},
     "output_type": "display_data"
    }
   ],
   "source": [
    "data = range(10)\n",
    "\n",
    "annotate(data, buttons=None, display=None, multi=False)"
   ]
  },
  {
   "cell_type": "markdown",
   "metadata": {},
   "source": [
    "<img src=\"i/default.gif\"/>"
   ]
  },
  {
   "cell_type": "markdown",
   "metadata": {},
   "source": [
    "By default, `buttons` is the four buttons\" ok \",\" err \",\" back \",\" next \". This set is suitable for simple verification of the results of the work of any classifier. The user can specify his own buttons, customize colors and shortcuts:"
   ]
  },
  {
   "cell_type": "code",
   "execution_count": 9,
   "metadata": {},
   "outputs": [
    {
     "data": {
      "application/vnd.jupyter.widget-view+json": {
       "model_id": "6e28b3989bca44a699c74dd1b7b3c10d",
       "version_major": 2,
       "version_minor": 0
      },
      "text/plain": [
       "Annotation(canvas=OutputCanvas(), progress=Progress(atoms=[<ipyannotate.progress.Atom object at 0x10b45f518>, …"
      ]
     },
     "metadata": {},
     "output_type": "display_data"
    }
   ],
   "source": [
    "from ipyannotate.buttons import (\n",
    "    ValueButton as Button,\n",
    "    BackButton as Back,\n",
    "    NextButton as Next\n",
    ")\n",
    "\n",
    "buttons = [\n",
    "    Button(2, label='Divisible by 2', color='blue', icon='½ ', shortcut='1'),\n",
    "    Button(3, label='by 3', color='red', icon='⅓ ', shortcut='2'),\n",
    "    Button(5, label='by 5', color='green',  icon='⅕ ', shortcut='3'),\n",
    "]\n",
    "controls = [\n",
    "    Back(),\n",
    "    Next()\n",
    "]\n",
    "annotate(data, buttons=buttons + controls)"
   ]
  },
  {
   "cell_type": "markdown",
   "metadata": {},
   "source": [
    "When `multi = False`, the widget is in radiobutton mode, the user can specify only one label for the object. If `multi = False` you can specify several labels:"
   ]
  },
  {
   "cell_type": "code",
   "execution_count": 10,
   "metadata": {},
   "outputs": [
    {
     "data": {
      "application/vnd.jupyter.widget-view+json": {
       "model_id": "355a76884ea04672866ea672f67f7846",
       "version_major": 2,
       "version_minor": 0
      },
      "text/plain": [
       "Annotation(canvas=OutputCanvas(), progress=Progress(atoms=[<ipyannotate.progress.Atom object at 0x10b474160>, …"
      ]
     },
     "metadata": {},
     "output_type": "display_data"
    }
   ],
   "source": [
    "buttons = [\n",
    "    Button(2, label='Divisible by 2', color='blue', icon='½ ', shortcut='1'),\n",
    "    Button(3, label='by 3', color='red', icon='⅓ ', shortcut='2'),\n",
    "    Button(5, label='by 5', color='green',  icon='⅕ ', shortcut='3'),\n",
    "]\n",
    "controls = [\n",
    "    Back(),\n",
    "    Next()\n",
    "]\n",
    "annotation = annotate(data, buttons=buttons + controls, multi=True)\n",
    "annotation"
   ]
  },
  {
   "cell_type": "markdown",
   "metadata": {},
   "source": [
    "<img src=\"i/multi.gif\"/>"
   ]
  },
  {
   "cell_type": "markdown",
   "metadata": {},
   "source": [
    "If `multi=True` then the `value` of `annotation.tasks` will be `set`:"
   ]
  },
  {
   "cell_type": "code",
   "execution_count": 11,
   "metadata": {},
   "outputs": [
    {
     "data": {
      "text/plain": [
       "[MultiTask(output=0, value=set()),\n",
       " MultiTask(output=1, value=set()),\n",
       " MultiTask(output=2, value=set()),\n",
       " MultiTask(output=3, value=set()),\n",
       " MultiTask(output=4, value=set()),\n",
       " MultiTask(output=5, value=set()),\n",
       " MultiTask(output=6, value=set()),\n",
       " MultiTask(output=7, value=set()),\n",
       " MultiTask(output=8, value=set()),\n",
       " MultiTask(output=9, value=set())]"
      ]
     },
     "execution_count": 11,
     "metadata": {},
     "output_type": "execute_result"
    }
   ],
   "source": [
    "annotation.tasks"
   ]
  },
  {
   "cell_type": "markdown",
   "metadata": {},
   "source": [
    "By default, the standard `IPython.display` is used for output. The user can specify his function, for example, display the path to the file with the picture:"
   ]
  },
  {
   "cell_type": "code",
   "execution_count": 12,
   "metadata": {},
   "outputs": [
    {
     "data": {
      "application/vnd.jupyter.widget-view+json": {
       "model_id": "fc51cc68236c42dbb48c575744ef4f0b",
       "version_major": 2,
       "version_minor": 0
      },
      "text/plain": [
       "Annotation(canvas=OutputCanvas(), progress=Progress(atoms=[<ipyannotate.progress.Atom object at 0x10b48d518>, …"
      ]
     },
     "metadata": {},
     "output_type": "display_data"
    }
   ],
   "source": [
    "data = {_: Image.open(_) for _ in glob('i/dogs_cats/*.jpg')}\n",
    "\n",
    "\n",
    "def display_item(item):\n",
    "    from IPython.display import display\n",
    "    \n",
    "    path, image = item\n",
    "    print(path)\n",
    "    display(image)\n",
    "\n",
    "\n",
    "buttons = [\n",
    "    Button('dog', shortcut='1'),\n",
    "    Button('cat', shortcut='2'),\n",
    "    Back(),\n",
    "    Next()\n",
    "]\n",
    "annotation = annotate(data.items(), buttons=buttons, display=display_item)\n",
    "annotation"
   ]
  },
  {
   "cell_type": "markdown",
   "metadata": {},
   "source": [
    "<img src=\"i/display.gif\">"
   ]
  },
  {
   "cell_type": "code",
   "execution_count": null,
   "metadata": {},
   "outputs": [],
   "source": []
  }
 ],
 "metadata": {
  "kernelspec": {
   "display_name": "Python 3",
   "language": "python",
   "name": "python3"
  },
  "language_info": {
   "codemirror_mode": {
    "name": "ipython",
    "version": 3
   },
   "file_extension": ".py",
   "mimetype": "text/x-python",
   "name": "python",
   "nbconvert_exporter": "python",
   "pygments_lexer": "ipython3",
   "version": "3.7.0"
  }
 },
 "nbformat": 4,
 "nbformat_minor": 2
}
