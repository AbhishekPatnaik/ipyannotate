{
 "cells": [
  {
   "cell_type": "markdown",
   "metadata": {},
   "source": [
    "# ipyannotate"
   ]
  },
  {
   "cell_type": "markdown",
   "metadata": {},
   "source": [
    "Виджет для Jupyter Notebook для проверки и разметки данных. Упрощенный налог <a href=\"https://prodi.gy/demo?view_id=ner\">Prodigy</a> для Jupyter Notebook.\n",
    "<img src=\"i/screencast.gif\"/>"
   ]
  },
  {
   "cell_type": "markdown",
   "metadata": {},
   "source": [
    "Примеры задач на разметку, которые можно решить с помощью `ipyannotate`:\n",
    "- Есть набор новостных статей, нужно для каждой проставить одну или несколько тем\n",
    "- Есть тексты отзывов, нужно отфильтровать токсичные\n",
    "- Есть скриншоты сайтов, нужно пометить взрослый контент\n",
    "- Есть NER-разметка, нужно понять какие типы ошибок встречаются чаще всего\n",
    "\n",
    "Примеры задач, для которых не подходит `ipyannotate`:\n",
    "- Есть фотографии товаров, нужно нарисовать на них маску, выделить фон\n",
    "- Есть портреты людей, нужно пометить на них рот, нос, глаза\n",
    "- Есть тексты нужно \"нарисовать\" на них разметку, выделить имена, адреса, названия организаций\n",
    "\n",
    "`ipyannotate` подходит, чтобы удобно поставить для набора объектов (картинок, текстов) по одной или несколько меток.\n",
    "\n",
    "Существует массам инструментов, которые позволяют делать то же самое, например <a href=\"https://prodi.gy/\">Prodigy</a>, <a href=\"http://toloka.yandex.ru/\">Толока</a>. `ipyannotate` оформлен в виде виджета для Jupyter Notebook, это удобно по трём причинам:\n",
    "1. Ввод, вывод данных\n",
    "\n",
    "Часто весь процесс работы с данными происходит внутри Jupyter Notebook. Неудобно оформлять данные в json или xml-файл, отправлять их в другой сервис, выгружать и парсить результаты. С `ipyannotate` можно размечать данные прямо в ноутбуке:"
   ]
  },
  {
   "cell_type": "code",
   "execution_count": 23,
   "metadata": {},
   "outputs": [
    {
     "data": {
      "application/vnd.jupyter.widget-view+json": {
       "model_id": "61b94f053da040048ce0a6895290006f",
       "version_major": 2,
       "version_minor": 0
      },
      "text/html": [
       "<p>Failed to display Jupyter Widget of type <code>Annotation</code>.</p>\n",
       "<p>\n",
       "  If you're reading this message in the Jupyter Notebook or JupyterLab Notebook, it may mean\n",
       "  that the widgets JavaScript is still loading. If this message persists, it\n",
       "  likely means that the widgets JavaScript library is either not installed or\n",
       "  not enabled. See the <a href=\"https://ipywidgets.readthedocs.io/en/stable/user_install.html\">Jupyter\n",
       "  Widgets Documentation</a> for setup instructions.\n",
       "</p>\n",
       "<p>\n",
       "  If you're reading this message in another frontend (for example, a static\n",
       "  rendering on GitHub or <a href=\"https://nbviewer.jupyter.org/\">NBViewer</a>),\n",
       "  it may mean that your frontend doesn't currently support widgets.\n",
       "</p>\n"
      ],
      "text/plain": [
       "Annotation(canvas=OutputCanvas(), progress=Progress(atoms=[<ipyannotate.progress.Atom object at 0x1044779b0>, <ipyannotate.progress.Atom object at 0x104477d30>, <ipyannotate.progress.Atom object at 0x104477dd8>, <ipyannotate.progress.Atom object at 0x104477e10>, <ipyannotate.progress.Atom object at 0x1044779e8>, <ipyannotate.progress.Atom object at 0x104477da0>, <ipyannotate.progress.Atom object at 0x104477d68>, <ipyannotate.progress.Atom object at 0x104477a58>]), toolbar=Toolbar(buttons=[ValueButton(color='gray', icon=None, label='чётное'), ValueButton(color='gray', icon=None, label='нечётное'), BackButton(color='gray', icon='← ', label='back', shortcut='k'), NextButton(color='gray', icon='→ ', label='next', shortcut='j')]))"
      ]
     },
     "metadata": {},
     "output_type": "display_data"
    }
   ],
   "source": [
    "from ipyannotate import annotate\n",
    "from ipyannotate.buttons import (\n",
    "    ValueButton as Button,\n",
    "    NextButton as Next,\n",
    "    BackButton as Back\n",
    ")\n",
    "\n",
    "data = [1, 15, 62, 33, 83, 12, 949, 71]\n",
    "annotation = annotate(data, buttons=[Button('чётное'), Button('нечётное'), Back(), Next()])\n",
    "annotation"
   ]
  },
  {
   "cell_type": "markdown",
   "metadata": {},
   "source": [
    "<img src=\"i/odd_even.gif\"/>"
   ]
  },
  {
   "cell_type": "code",
   "execution_count": 15,
   "metadata": {},
   "outputs": [
    {
     "data": {
      "text/plain": [
       "[Task(output=1, value=нечётное),\n",
       " Task(output=15, value=нечётное),\n",
       " Task(output=62, value=чётное),\n",
       " Task(output=33, value=нечётное),\n",
       " Task(output=83, value=нечётное),\n",
       " Task(output=12, value=чётное),\n",
       " Task(output=949, value=нечётное),\n",
       " Task(output=71, value=нечётное)]"
      ]
     },
     "execution_count": 15,
     "metadata": {},
     "output_type": "execute_result"
    }
   ],
   "source": [
    "annotation.tasks"
   ]
  },
  {
   "cell_type": "markdown",
   "metadata": {},
   "source": [
    "2. Представление данных\n",
    "\n",
    "В Jupyter встроена удобная система представления данных. Если результат работы команды — график, пользователь видит картинку, а не `<Figure #881dabb ...>` как в обычной консоли. Эта функциональность доступна в `ipyannotate`, можно, например, удобно размечать картинки:"
   ]
  },
  {
   "cell_type": "code",
   "execution_count": 24,
   "metadata": {},
   "outputs": [
    {
     "data": {
      "application/vnd.jupyter.widget-view+json": {
       "model_id": "4402ab0e8b584eae9a2d6e8214abb550",
       "version_major": 2,
       "version_minor": 0
      },
      "text/html": [
       "<p>Failed to display Jupyter Widget of type <code>Annotation</code>.</p>\n",
       "<p>\n",
       "  If you're reading this message in the Jupyter Notebook or JupyterLab Notebook, it may mean\n",
       "  that the widgets JavaScript is still loading. If this message persists, it\n",
       "  likely means that the widgets JavaScript library is either not installed or\n",
       "  not enabled. See the <a href=\"https://ipywidgets.readthedocs.io/en/stable/user_install.html\">Jupyter\n",
       "  Widgets Documentation</a> for setup instructions.\n",
       "</p>\n",
       "<p>\n",
       "  If you're reading this message in another frontend (for example, a static\n",
       "  rendering on GitHub or <a href=\"https://nbviewer.jupyter.org/\">NBViewer</a>),\n",
       "  it may mean that your frontend doesn't currently support widgets.\n",
       "</p>\n"
      ],
      "text/plain": [
       "Annotation(canvas=OutputCanvas(), progress=Progress(atoms=[<ipyannotate.progress.Atom object at 0x10445c160>, <ipyannotate.progress.Atom object at 0x10445c550>, <ipyannotate.progress.Atom object at 0x10445cd30>, <ipyannotate.progress.Atom object at 0x10445c4e0>, <ipyannotate.progress.Atom object at 0x10445c470>, <ipyannotate.progress.Atom object at 0x10445ce10>]), toolbar=Toolbar(buttons=[ValueButton(color='gray', icon=None, label='dog'), ValueButton(color='gray', icon=None, label='cat'), BackButton(color='gray', icon='← ', label='back', shortcut='k'), NextButton(color='gray', icon='→ ', label='next', shortcut='j')]))"
      ]
     },
     "metadata": {},
     "output_type": "display_data"
    }
   ],
   "source": [
    "from glob import glob\n",
    "from PIL import Image\n",
    "\n",
    "data = [Image.open(_) for _ in glob('i/dogs_cats/*.jpg')]\n",
    "annotation = annotate(data, buttons=[Button('dog'), Button('cat'), Back(), Next()])\n",
    "annotation"
   ]
  },
  {
   "cell_type": "markdown",
   "metadata": {},
   "source": [
    "<img src=\"i/dogs_cats.gif\">"
   ]
  },
  {
   "cell_type": "markdown",
   "metadata": {},
   "source": [
    "3. Интерактивность\n",
    "\n",
    "При разметке текстов по категориям, часто заранее не известны все возможные темы. Грубо говоря, до начала работы нельзя задать список кнопочек в `ipyannotate.annotate`. Виджеты интерактивные, поэтому кнопку можно добавить на ходу. Также, например, можно сохранить промежуточные результаты разметки, `annotation.tasks` обновляется в памяти интерактивно."
   ]
  },
  {
   "cell_type": "code",
   "execution_count": 21,
   "metadata": {},
   "outputs": [
    {
     "data": {
      "application/vnd.jupyter.widget-view+json": {
       "model_id": "cc8bd227a01249b5851bb3b158091de3",
       "version_major": 2,
       "version_minor": 0
      },
      "text/html": [
       "<p>Failed to display Jupyter Widget of type <code>Annotation</code>.</p>\n",
       "<p>\n",
       "  If you're reading this message in the Jupyter Notebook or JupyterLab Notebook, it may mean\n",
       "  that the widgets JavaScript is still loading. If this message persists, it\n",
       "  likely means that the widgets JavaScript library is either not installed or\n",
       "  not enabled. See the <a href=\"https://ipywidgets.readthedocs.io/en/stable/user_install.html\">Jupyter\n",
       "  Widgets Documentation</a> for setup instructions.\n",
       "</p>\n",
       "<p>\n",
       "  If you're reading this message in another frontend (for example, a static\n",
       "  rendering on GitHub or <a href=\"https://nbviewer.jupyter.org/\">NBViewer</a>),\n",
       "  it may mean that your frontend doesn't currently support widgets.\n",
       "</p>\n"
      ],
      "text/plain": [
       "Annotation(canvas=OutputCanvas(), progress=Progress(atoms=[<ipyannotate.progress.Atom object at 0x1044571d0>, <ipyannotate.progress.Atom object at 0x1043f2240>, <ipyannotate.progress.Atom object at 0x10441c5c0>, <ipyannotate.progress.Atom object at 0x10441c2e8>, <ipyannotate.progress.Atom object at 0x10441c748>, <ipyannotate.progress.Atom object at 0x10441c4e0>, <ipyannotate.progress.Atom object at 0x10441c860>, <ipyannotate.progress.Atom object at 0x10441c390>, <ipyannotate.progress.Atom object at 0x10441c198>]), toolbar=Toolbar(buttons=[ValueButton(color='gray', icon=None, label='место'), ValueButton(color='gray', icon=None, label='гостиница'), BackButton(color='gray', icon='← ', label='back', shortcut='k'), NextButton(color='gray', icon='→ ', label='next', shortcut='j')]))"
      ]
     },
     "metadata": {},
     "output_type": "display_data"
    }
   ],
   "source": [
    "data = [\n",
    "    'тур в турцию',\n",
    "    'озеро гарда сентябрь',\n",
    "    'минигостиницы на черном море',\n",
    "    'Smartline Konaktepe Hotel 4*',\n",
    "    'какой район амстердама выбрать карта',\n",
    "    'база лесная сказка еловое',\n",
    "    'кабардинка что посмотреть куда сходить',\n",
    "    'ресторан дубовичи святой стефан',\n",
    "    'дом музей дали'\n",
    "]\n",
    "\n",
    "buttons = [\n",
    "    Button('место'),\n",
    "    Button('гостиница')\n",
    "]\n",
    "controls = [\n",
    "    Back(),\n",
    "    Next()\n",
    "]\n",
    "annotation = annotate(data, buttons=buttons + controls)\n",
    "annotation"
   ]
  },
  {
   "cell_type": "code",
   "execution_count": 22,
   "metadata": {},
   "outputs": [],
   "source": [
    "fun = Button('развлечения')\n",
    "annotation.toolbar.buttons = buttons + [fun] + controls"
   ]
  },
  {
   "cell_type": "markdown",
   "metadata": {},
   "source": [
    "<img src=\"i/interactive.gif\"/>"
   ]
  },
  {
   "cell_type": "markdown",
   "metadata": {},
   "source": [
    "## Справочник"
   ]
  },
  {
   "cell_type": "markdown",
   "metadata": {},
   "source": [
    "Основной интерфейс для пользователя — функция `annotate`, у неё один обязательный аргумент `tasks` — список заданий, и три опциональных: `buttons`, `display` и `multi`:"
   ]
  },
  {
   "cell_type": "code",
   "execution_count": 25,
   "metadata": {},
   "outputs": [
    {
     "data": {
      "application/vnd.jupyter.widget-view+json": {
       "model_id": "e525de78b896457497819bc9e7dd8151",
       "version_major": 2,
       "version_minor": 0
      },
      "text/html": [
       "<p>Failed to display Jupyter Widget of type <code>Annotation</code>.</p>\n",
       "<p>\n",
       "  If you're reading this message in the Jupyter Notebook or JupyterLab Notebook, it may mean\n",
       "  that the widgets JavaScript is still loading. If this message persists, it\n",
       "  likely means that the widgets JavaScript library is either not installed or\n",
       "  not enabled. See the <a href=\"https://ipywidgets.readthedocs.io/en/stable/user_install.html\">Jupyter\n",
       "  Widgets Documentation</a> for setup instructions.\n",
       "</p>\n",
       "<p>\n",
       "  If you're reading this message in another frontend (for example, a static\n",
       "  rendering on GitHub or <a href=\"https://nbviewer.jupyter.org/\">NBViewer</a>),\n",
       "  it may mean that your frontend doesn't currently support widgets.\n",
       "</p>\n"
      ],
      "text/plain": [
       "Annotation(canvas=OutputCanvas(), progress=Progress(atoms=[<ipyannotate.progress.Atom object at 0x104450400>, <ipyannotate.progress.Atom object at 0x1044504e0>, <ipyannotate.progress.Atom object at 0x104450780>, <ipyannotate.progress.Atom object at 0x104450160>, <ipyannotate.progress.Atom object at 0x104450198>, <ipyannotate.progress.Atom object at 0x104450ac8>, <ipyannotate.progress.Atom object at 0x104450940>, <ipyannotate.progress.Atom object at 0x104450470>, <ipyannotate.progress.Atom object at 0x104450748>, <ipyannotate.progress.Atom object at 0x104450390>]), toolbar=Toolbar(buttons=[OkButton(color='green', icon='👌', label='ok', shortcut='1'), ErrorButton(color='red', icon='❌', label='err', shortcut='2'), BackButton(color='gray', icon='← ', label='back', shortcut='k'), NextButton(color='gray', icon='→ ', label='next', shortcut='j')]))"
      ]
     },
     "metadata": {},
     "output_type": "display_data"
    }
   ],
   "source": [
    "data = range(10)\n",
    "\n",
    "annotate(data, buttons=None, display=None, multi=False)"
   ]
  },
  {
   "cell_type": "markdown",
   "metadata": {},
   "source": [
    "<img src=\"i/default.gif\"/>"
   ]
  },
  {
   "cell_type": "markdown",
   "metadata": {},
   "source": [
    "По умолчанию, `buttons` — это четыре кнопки \"ok\", \"err\", \"back\", \"next\". Такой набор подходит для простой проверки результатов работы какого-нибудь классификатора. Пользователь, может указать свои кнопки, настроить цвета и шоткаты:"
   ]
  },
  {
   "cell_type": "code",
   "execution_count": 31,
   "metadata": {},
   "outputs": [
    {
     "data": {
      "application/vnd.jupyter.widget-view+json": {
       "model_id": "8ae2723c63ea46379d3fdd5d2713063b",
       "version_major": 2,
       "version_minor": 0
      },
      "text/html": [
       "<p>Failed to display Jupyter Widget of type <code>Annotation</code>.</p>\n",
       "<p>\n",
       "  If you're reading this message in the Jupyter Notebook or JupyterLab Notebook, it may mean\n",
       "  that the widgets JavaScript is still loading. If this message persists, it\n",
       "  likely means that the widgets JavaScript library is either not installed or\n",
       "  not enabled. See the <a href=\"https://ipywidgets.readthedocs.io/en/stable/user_install.html\">Jupyter\n",
       "  Widgets Documentation</a> for setup instructions.\n",
       "</p>\n",
       "<p>\n",
       "  If you're reading this message in another frontend (for example, a static\n",
       "  rendering on GitHub or <a href=\"https://nbviewer.jupyter.org/\">NBViewer</a>),\n",
       "  it may mean that your frontend doesn't currently support widgets.\n",
       "</p>\n"
      ],
      "text/plain": [
       "Annotation(canvas=OutputCanvas(), progress=Progress(atoms=[<ipyannotate.progress.Atom object at 0x103492eb8>, <ipyannotate.progress.Atom object at 0x103492128>, <ipyannotate.progress.Atom object at 0x1034922b0>, <ipyannotate.progress.Atom object at 0x103492630>, <ipyannotate.progress.Atom object at 0x103492940>, <ipyannotate.progress.Atom object at 0x103492cc0>, <ipyannotate.progress.Atom object at 0x103492400>, <ipyannotate.progress.Atom object at 0x103475eb8>, <ipyannotate.progress.Atom object at 0x103475da0>, <ipyannotate.progress.Atom object at 0x1034758d0>]), toolbar=Toolbar(buttons=[ValueButton(color='blue', icon='½ ', label='делится на 2', shortcut='1'), ValueButton(color='red', icon='⅓ ', label='на 3', shortcut='2'), ValueButton(color='green', icon='⅕ ', label='на 5', shortcut='3'), BackButton(color='gray', icon='← ', label='back', shortcut='k'), NextButton(color='gray', icon='→ ', label='next', shortcut='j')]))"
      ]
     },
     "metadata": {},
     "output_type": "display_data"
    }
   ],
   "source": [
    "from ipyannotate.buttons import (\n",
    "    ValueButton as Button,\n",
    "    BackButton as Back,\n",
    "    NextButton as Next\n",
    ")\n",
    "\n",
    "buttons = [\n",
    "    Button(2, label='делится на 2', color='blue', icon='½ ', shortcut='1'),\n",
    "    Button(3, label='на 3', color='red', icon='⅓ ', shortcut='2'),\n",
    "    Button(5, label='на 5', color='green',  icon='⅕ ', shortcut='3'),\n",
    "]\n",
    "controls = [\n",
    "    Back(),\n",
    "    Next()\n",
    "]\n",
    "annotate(data, buttons=buttons + controls)"
   ]
  },
  {
   "cell_type": "markdown",
   "metadata": {},
   "source": [
    "Когда `multi=False`, виджет работает в режиме radiobutton, пользователь может указать только одну метку для объекта. C `multi=False` можно указывать несколько меток:"
   ]
  },
  {
   "cell_type": "code",
   "execution_count": 37,
   "metadata": {},
   "outputs": [
    {
     "data": {
      "application/vnd.jupyter.widget-view+json": {
       "model_id": "f35e961c0fdc416d80244d771ed8313c",
       "version_major": 2,
       "version_minor": 0
      },
      "text/html": [
       "<p>Failed to display Jupyter Widget of type <code>Annotation</code>.</p>\n",
       "<p>\n",
       "  If you're reading this message in the Jupyter Notebook or JupyterLab Notebook, it may mean\n",
       "  that the widgets JavaScript is still loading. If this message persists, it\n",
       "  likely means that the widgets JavaScript library is either not installed or\n",
       "  not enabled. See the <a href=\"https://ipywidgets.readthedocs.io/en/stable/user_install.html\">Jupyter\n",
       "  Widgets Documentation</a> for setup instructions.\n",
       "</p>\n",
       "<p>\n",
       "  If you're reading this message in another frontend (for example, a static\n",
       "  rendering on GitHub or <a href=\"https://nbviewer.jupyter.org/\">NBViewer</a>),\n",
       "  it may mean that your frontend doesn't currently support widgets.\n",
       "</p>\n"
      ],
      "text/plain": [
       "Annotation(canvas=OutputCanvas(), progress=Progress(atoms=[<ipyannotate.progress.Atom object at 0x104933400>, <ipyannotate.progress.Atom object at 0x104933048>, <ipyannotate.progress.Atom object at 0x1049333c8>, <ipyannotate.progress.Atom object at 0x1049334a8>, <ipyannotate.progress.Atom object at 0x104933278>, <ipyannotate.progress.Atom object at 0x104933320>, <ipyannotate.progress.Atom object at 0x104933080>, <ipyannotate.progress.Atom object at 0x104933518>, <ipyannotate.progress.Atom object at 0x104933550>, <ipyannotate.progress.Atom object at 0x104933588>]), toolbar=MultiToolbar(buttons=[ValueButton(color='blue', icon='½ ', label='делится на 2', shortcut='1'), ValueButton(color='red', icon='⅓ ', label='на 3', shortcut='2'), ValueButton(color='green', icon='⅕ ', label='на 5', shortcut='3'), BackButton(color='gray', icon='← ', label='back', shortcut='k'), NextButton(color='gray', icon='→ ', label='next', shortcut='j')]))"
      ]
     },
     "metadata": {},
     "output_type": "display_data"
    }
   ],
   "source": [
    "buttons = [\n",
    "    Button(2, label='делится на 2', color='blue', icon='½ ', shortcut='1'),\n",
    "    Button(3, label='на 3', color='red', icon='⅓ ', shortcut='2'),\n",
    "    Button(5, label='на 5', color='green',  icon='⅕ ', shortcut='3'),\n",
    "]\n",
    "controls = [\n",
    "    Back(),\n",
    "    Next()\n",
    "]\n",
    "annotation = annotate(data, buttons=buttons + controls, multi=True)\n",
    "annotation"
   ]
  },
  {
   "cell_type": "markdown",
   "metadata": {},
   "source": [
    "<img src=\"i/multi.gif\"/>"
   ]
  },
  {
   "cell_type": "markdown",
   "metadata": {},
   "source": [
    "С `multi=True` в `annotation.tasks` в `value` будет `set`:"
   ]
  },
  {
   "cell_type": "code",
   "execution_count": 39,
   "metadata": {},
   "outputs": [
    {
     "data": {
      "text/plain": [
       "[MultiTask(output=0, value={2, 3, 5}),\n",
       " MultiTask(output=1, value=set()),\n",
       " MultiTask(output=2, value={2}),\n",
       " MultiTask(output=3, value={3}),\n",
       " MultiTask(output=4, value={2}),\n",
       " MultiTask(output=5, value={5}),\n",
       " MultiTask(output=6, value={2, 3}),\n",
       " MultiTask(output=7, value=set()),\n",
       " MultiTask(output=8, value={2}),\n",
       " MultiTask(output=9, value={3})]"
      ]
     },
     "execution_count": 39,
     "metadata": {},
     "output_type": "execute_result"
    }
   ],
   "source": [
    "annotation.tasks"
   ]
  },
  {
   "cell_type": "markdown",
   "metadata": {},
   "source": [
    "По-умолчанию, для вывода используется стандартный `IPython.display`. Пользователь может указать свою функцию, например, выводить вместе с картинкой путь до файла:"
   ]
  },
  {
   "cell_type": "code",
   "execution_count": 42,
   "metadata": {},
   "outputs": [
    {
     "data": {
      "application/vnd.jupyter.widget-view+json": {
       "model_id": "5314569eb0e1426496f9801946300d9d",
       "version_major": 2,
       "version_minor": 0
      },
      "text/html": [
       "<p>Failed to display Jupyter Widget of type <code>Annotation</code>.</p>\n",
       "<p>\n",
       "  If you're reading this message in the Jupyter Notebook or JupyterLab Notebook, it may mean\n",
       "  that the widgets JavaScript is still loading. If this message persists, it\n",
       "  likely means that the widgets JavaScript library is either not installed or\n",
       "  not enabled. See the <a href=\"https://ipywidgets.readthedocs.io/en/stable/user_install.html\">Jupyter\n",
       "  Widgets Documentation</a> for setup instructions.\n",
       "</p>\n",
       "<p>\n",
       "  If you're reading this message in another frontend (for example, a static\n",
       "  rendering on GitHub or <a href=\"https://nbviewer.jupyter.org/\">NBViewer</a>),\n",
       "  it may mean that your frontend doesn't currently support widgets.\n",
       "</p>\n"
      ],
      "text/plain": [
       "Annotation(canvas=OutputCanvas(), progress=Progress(atoms=[<ipyannotate.progress.Atom object at 0x104b8a160>, <ipyannotate.progress.Atom object at 0x104b8a2b0>, <ipyannotate.progress.Atom object at 0x104b8a240>, <ipyannotate.progress.Atom object at 0x104b8a2e8>, <ipyannotate.progress.Atom object at 0x104b8a320>, <ipyannotate.progress.Atom object at 0x104b8a3c8>]), toolbar=Toolbar(buttons=[ValueButton(color='gray', icon=None, label='dog', shortcut='1'), ValueButton(color='gray', icon=None, label='cat', shortcut='2'), BackButton(color='gray', icon='← ', label='back', shortcut='k'), NextButton(color='gray', icon='→ ', label='next', shortcut='j')]))"
      ]
     },
     "metadata": {},
     "output_type": "display_data"
    }
   ],
   "source": [
    "data = {_: Image.open(_) for _ in glob('i/dogs_cats/*.jpg')}\n",
    "\n",
    "\n",
    "def display_item(item):\n",
    "    from IPython.display import display\n",
    "    \n",
    "    path, image = item\n",
    "    print(path)\n",
    "    display(image)\n",
    "\n",
    "\n",
    "buttons = [\n",
    "    Button('dog', shortcut='1'),\n",
    "    Button('cat', shortcut='2'),\n",
    "    Back(),\n",
    "    Next()\n",
    "]\n",
    "annotation = annotate(data.items(), buttons=buttons, display=display_item)\n",
    "annotation"
   ]
  },
  {
   "cell_type": "markdown",
   "metadata": {},
   "source": [
    "<img src=\"i/display.gif\">"
   ]
  },
  {
   "cell_type": "code",
   "execution_count": null,
   "metadata": {},
   "outputs": [],
   "source": []
  }
 ],
 "metadata": {
  "kernelspec": {
   "display_name": "Python 3",
   "language": "python",
   "name": "python3"
  },
  "language_info": {
   "codemirror_mode": {
    "name": "ipython",
    "version": 3
   },
   "file_extension": ".py",
   "mimetype": "text/x-python",
   "name": "python",
   "nbconvert_exporter": "python",
   "pygments_lexer": "ipython3",
   "version": "3.5.1"
  }
 },
 "nbformat": 4,
 "nbformat_minor": 2
}
